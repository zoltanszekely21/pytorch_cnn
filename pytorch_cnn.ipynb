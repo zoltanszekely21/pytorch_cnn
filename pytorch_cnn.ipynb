{
 "cells": [
  {
   "cell_type": "markdown",
   "metadata": {},
   "source": [
    "### Welcome to Deep Learning with PyTorch Series of project \n",
    "\n",
    "- Deep Learning with PyTorch : Build a Neural Network \n",
    "- **Deep Learning with PyTorch : Convolutional Neural Network**\n",
    "- Deep Learning with PyTorch : Neural Style Transfer\n",
    "- Many more coming"
   ]
  },
  {
   "cell_type": "markdown",
   "metadata": {},
   "source": [
    "# Deep Learning with PyTorch : Build a Convolutional Neural Network"
   ]
  },
  {
   "cell_type": "code",
   "execution_count": 49,
   "metadata": {},
   "outputs": [],
   "source": [
    "import numpy as np \n",
    "import matplotlib.pyplot as plt\n",
    "import torch "
   ]
  },
  {
   "cell_type": "markdown",
   "metadata": {},
   "source": [
    "## Task 1 : Load CIFAR-10 Dataset"
   ]
  },
  {
   "cell_type": "markdown",
   "metadata": {},
   "source": [
    "![](cifar-10.png)"
   ]
  },
  {
   "cell_type": "markdown",
   "metadata": {},
   "source": [
    "PyTorch transforms : https://pytorch.org/docs/stable/torchvision/transforms.html\n",
    "- **For CIFAR-10 Dataset Channel mean is 0.4914, 0.4822, 0.4465**\n",
    "- **Channel wise Standard Deviation is 0.2470, 0.2435, 0.2616**"
   ]
  },
  {
   "cell_type": "code",
   "execution_count": 50,
   "metadata": {},
   "outputs": [],
   "source": [
    "from torchvision import transforms as T, datasets"
   ]
  },
  {
   "cell_type": "markdown",
   "metadata": {},
   "source": [
    "* ToTensor() : converts numpy or PIL images to tensor. It also converts your image dimension to C x H x W because in pytorch for network input channel should be first \n",
    "\n",
    "* Normalize() : Takes channel wise mean-list and channel wise standard deviation-list"
   ]
  },
  {
   "cell_type": "code",
   "execution_count": 51,
   "metadata": {},
   "outputs": [],
   "source": [
    "data_transforms = T.Compose([\n",
    "    T.ToTensor(), # H x W x C -> C x H x W\n",
    "    T.Normalize(mean = [0.4914, 0.4822, 0.4465],std = [0.2470, 0.2435, 0.2616])\n",
    "])"
   ]
  },
  {
   "cell_type": "markdown",
   "metadata": {},
   "source": [
    "#### Parameters in datasets submodule\n",
    "\n",
    "* data_path\n",
    "* train : True (to load train set) or False (to load test set)\n",
    "* download : True (to download) or False\n",
    "* transform : to apply transformation on data\n"
   ]
  },
  {
   "cell_type": "markdown",
   "metadata": {},
   "source": [
    "CIFAR-10 consists of 60,000 tiny 32 x 32 x 3(RGB) images, labeled with an interger corresponding to 1 of 10 : classes = ('plane', 'car', 'bird', 'cat','deer', 'dog', 'frog', 'horse', 'ship', 'truck')"
   ]
  },
  {
   "cell_type": "code",
   "execution_count": 52,
   "metadata": {},
   "outputs": [],
   "source": [
    "train_ds = datasets.CIFAR10('cifar10/', train = True, download = False, transform = data_transforms)\n",
    "test_dataset = datasets.CIFAR10('cifar10/', train = False, download = False, transform = data_transforms)"
   ]
  },
  {
   "cell_type": "code",
   "execution_count": 53,
   "metadata": {},
   "outputs": [
    {
     "name": "stdout",
     "output_type": "stream",
     "text": [
      "Size of train set 50000\n",
      "Size of test set 10000\n"
     ]
    }
   ],
   "source": [
    "print(\"Size of train set {}\".format(len(train_ds)))\n",
    "print(\"Size of test set {}\".format(len(test_dataset)))"
   ]
  },
  {
   "cell_type": "markdown",
   "metadata": {},
   "source": [
    "## Task 2 : Plot examples from dataset"
   ]
  },
  {
   "cell_type": "code",
   "execution_count": 54,
   "metadata": {},
   "outputs": [],
   "source": [
    "classes = ['plane', 'car', 'bird', 'cat','deer', 'dog', 'frog', 'horse', 'ship', 'truck']"
   ]
  },
  {
   "cell_type": "code",
   "execution_count": 55,
   "metadata": {},
   "outputs": [
    {
     "name": "stderr",
     "output_type": "stream",
     "text": [
      "Clipping input data to the valid range for imshow with RGB data ([0..1] for floats or [0..255] for integers).\n"
     ]
    },
    {
     "data": {
      "image/png": "[encoded data removed]",
      "text/plain": [
       "<Figure size 432x288 with 1 Axes>"
      ]
     },
     "metadata": {
      "needs_background": "light"
     },
     "output_type": "display_data"
    }
   ],
   "source": [
    "index = 99\n",
    "\n",
    "image, label = test_dataset [index]\n",
    "\n",
    "image = image.permute(1,2,0) #C(0) x H(1) x W(2)\n",
    "\n",
    "#image = image * torch.Tensor([0.2470, 0.2435, 0.2616]) + torch.Tensor([0.4914, 0.4822, 0.4465])\n",
    "\n",
    "plt.imshow(image)\n",
    "plt.title(classes [label]);"
   ]
  },
  {
   "cell_type": "markdown",
   "metadata": {},
   "source": [
    "## Task 3 : Load dataset into batches"
   ]
  },
  {
   "cell_type": "code",
   "execution_count": 56,
   "metadata": {},
   "outputs": [],
   "source": [
    "from torch.utils.data import DataLoader, random_split"
   ]
  },
  {
   "cell_type": "code",
   "execution_count": 57,
   "metadata": {},
   "outputs": [],
   "source": [
    "train_dataset, valid_dataset = random_split(train_ds, (45000,5000))"
   ]
  },
  {
   "cell_type": "code",
   "execution_count": 58,
   "metadata": {},
   "outputs": [],
   "source": [
    "trainloader = DataLoader(train_dataset,batch_size = 64,shuffle = True)\n",
    "validloader = DataLoader(valid_dataset,batch_size = 64,shuffle = True)\n",
    "testloader = DataLoader(test_dataset,batch_size = 64,shuffle = True)"
   ]
  },
  {
   "cell_type": "code",
   "execution_count": 59,
   "metadata": {},
   "outputs": [
    {
     "name": "stdout",
     "output_type": "stream",
     "text": [
      "Total batches created in Train loader : 704\n",
      "Total batches created in Valid loader : 79\n",
      "Total batches created in Test loader : 157\n",
      "Size of train dataset 45000\n",
      "Size of valid dataset 5000\n",
      "Size of test dataset 10000\n"
     ]
    }
   ],
   "source": [
    "print(\"Total batches created in Train loader : {}\".format(len(trainloader)))\n",
    "print(\"Total batches created in Valid loader : {}\".format(len(validloader)))\n",
    "print(\"Total batches created in Test loader : {}\".format(len(testloader)))\n",
    "print (\"Size of train dataset {}\".format(len(trainloader.dataset)))\n",
    "print (\"Size of valid dataset {}\".format(len(validloader.dataset)))\n",
    "print (\"Size of test dataset {}\".format(len(testloader.dataset)))"
   ]
  },
  {
   "cell_type": "code",
   "execution_count": 60,
   "metadata": {},
   "outputs": [
    {
     "name": "stdout",
     "output_type": "stream",
     "text": [
      "torch.Size([64, 3, 32, 32])\n",
      "torch.Size([64])\n"
     ]
    }
   ],
   "source": [
    "dataiter = iter(trainloader)\n",
    "\n",
    "images, labels = dataiter.next()\n",
    "\n",
    "print(images.shape)\n",
    "print(labels.shape)"
   ]
  },
  {
   "cell_type": "markdown",
   "metadata": {},
   "source": [
    "## Task 4 : Create Convolutional Neural Network "
   ]
  },
  {
   "cell_type": "code",
   "execution_count": 61,
   "metadata": {},
   "outputs": [],
   "source": [
    "from torch import nn\n",
    "import torch.nn.functional as F"
   ]
  },
  {
   "cell_type": "markdown",
   "metadata": {},
   "source": [
    "\n",
    "k : kernel_size or filters \n",
    "<br>\n",
    "p : padding \n",
    "<br>\n",
    "s : stride \n",
    "<br>\n",
    "W : Width \n",
    "<br>\n",
    "H : Height \n",
    "\n",
    "\\begin{equation*}\n",
    "For Same padding = \\frac{k - 1}{2} \\\\\n",
    "\\end{equation*}\n",
    "\n",
    "\\begin{equation*}\n",
    "W[next] = \\frac{W[previous] + 2p - k}{s} + 1 \\\\\n",
    "\\end{equation*}\n",
    "\n",
    "\\begin{equation*}\n",
    "H[next] = \\frac{H[previous] + 2p - k}{s} + 1 \\\\\n",
    "\\end{equation*}"
   ]
  },
  {
   "cell_type": "code",
   "execution_count": 62,
   "metadata": {},
   "outputs": [
    {
     "data": {
      "text/plain": [
       "'\\n3 x 32 x 32 (input)\\n\\n       | k = (3,3), p = 1, s = 1 , out_channels = 16,operation = convolutional  #conv1\\n       V activation = relu \\n       \\n16 x 32 x 32\\n\\n       | k = (2,2), s = 2, operation = Max Pooling #maxpool\\n       V \\n       \\n16 x 15 x 15\\n\\n       | k = (3,3), p = 1, s = 1, out_channels = 32, operation = convolutional #conv2\\n       V activation = relu\\n       \\n32 x 15 x 15 \\n\\n       | k = (2,2), s = 2, operation = Max Pooling #maxpool\\n       V \\n       \\n32 x 8 x 8\\n\\n       | k = (3,3), p = 1 , s = 1 , out_channels = 64, operation = convolutional #conv3\\n       V activation = relu \\n       \\n64 x 8 x 8\\n\\n       | k = (2,2), s = 2 , operation = MaxPooling #maxpool\\n       V\\n\\n64 x 4 x  4\\n    \\n       |  operation = Flatten\\n       V\\n500\\n\\n       |  linear,activation = relu #linear1\\n       V\\n\\n128\\n       |  linear,activation = relu #linear2\\n       V\\n\\n10  linear, activation = log_softmax #linear3\\n'"
      ]
     },
     "execution_count": 62,
     "metadata": {},
     "output_type": "execute_result"
    }
   ],
   "source": [
    "'''\n",
    "3 x 32 x 32 (input)\n",
    "\n",
    "       | k = (3,3), p = 1, s = 1 , out_channels = 16,operation = convolutional  #conv1\n",
    "       V activation = relu \n",
    "       \n",
    "16 x 32 x 32\n",
    "\n",
    "       | k = (2,2), s = 2, operation = Max Pooling #maxpool\n",
    "       V \n",
    "       \n",
    "16 x 15 x 15\n",
    "\n",
    "       | k = (3,3), p = 1, s = 1, out_channels = 32, operation = convolutional #conv2\n",
    "       V activation = relu\n",
    "       \n",
    "32 x 15 x 15 \n",
    "\n",
    "       | k = (2,2), s = 2, operation = Max Pooling #maxpool\n",
    "       V \n",
    "       \n",
    "32 x 8 x 8\n",
    "\n",
    "       | k = (3,3), p = 1 , s = 1 , out_channels = 64, operation = convolutional #conv3\n",
    "       V activation = relu \n",
    "       \n",
    "64 x 8 x 8\n",
    "\n",
    "       | k = (2,2), s = 2 , operation = MaxPooling #maxpool\n",
    "       V\n",
    "\n",
    "64 x 4 x  4\n",
    "    \n",
    "       |  operation = Flatten\n",
    "       V\n",
    "500\n",
    "\n",
    "       |  linear,activation = relu #linear1\n",
    "       V\n",
    "\n",
    "128\n",
    "       |  linear,activation = relu #linear2\n",
    "       V\n",
    "\n",
    "10  linear, activation = log_softmax #linear3\n",
    "'''"
   ]
  },
  {
   "cell_type": "code",
   "execution_count": 63,
   "metadata": {},
   "outputs": [],
   "source": [
    "class MyModel(nn.Module):\n",
    "    \n",
    "    def __init__(self):\n",
    "        super(MyModel,self).__init__()\n",
    "        \n",
    "        self.conv_1 = nn.Conv2d(in_channels = 3,out_channels = 16, kernel_size = (3,3), padding = 1,stride = 1)\n",
    "        self.conv_2 = nn.Conv2d(in_channels = 16,out_channels = 32, kernel_size = (3,3), padding = 1,stride = 1)\n",
    "        self.conv_3 = nn.Conv2d(in_channels = 32,out_channels = 64, kernel_size = (3,3), padding = 1,stride = 1)\n",
    "        self.maxpool = nn.MaxPool2d(kernel_size = (2,2),stride = 2)\n",
    "        \n",
    "        self.linear_1 = nn.Linear(in_features = 1024, out_features = 500)\n",
    "        self.linear_2 = nn.Linear(in_features = 500, out_features = 128)\n",
    "        self.linear_3 = nn.Linear(in_features = 128, out_features = 10)\n",
    "        \n",
    "        \n",
    "    def forward(self,images):\n",
    "        \n",
    "        #images : 3 x 32 x 32\n",
    "        \n",
    "        a1 = self.maxpool(F.relu(self.conv_1(images)))\n",
    "        \n",
    "        a2 = self.maxpool(F.relu(self.conv_2(a1)))\n",
    "        \n",
    "        a3 = self.maxpool(F.relu(self.conv_3(a2)))\n",
    "        \n",
    "        a3 = a3.view(a3.shape[0],-1) #(bs,64,4,4) -> (bs,64*4*4) -> (bs,1024)\n",
    "        \n",
    "        a4 = F.relu(self.linear_1(a3))\n",
    "        \n",
    "        a5 = F.relu(self.linear_2(a4))\n",
    "        \n",
    "        a6 = F.log_softmax(self.linear_3(a5),dim = 1)\n",
    "        \n",
    "        return a6"
   ]
  },
  {
   "cell_type": "code",
   "execution_count": 64,
   "metadata": {},
   "outputs": [
    {
     "data": {
      "text/plain": [
       "MyModel(\n",
       "  (conv_1): Conv2d(3, 16, kernel_size=(3, 3), stride=(1, 1), padding=(1, 1))\n",
       "  (conv_2): Conv2d(16, 32, kernel_size=(3, 3), stride=(1, 1), padding=(1, 1))\n",
       "  (conv_3): Conv2d(32, 64, kernel_size=(3, 3), stride=(1, 1), padding=(1, 1))\n",
       "  (maxpool): MaxPool2d(kernel_size=(2, 2), stride=2, padding=0, dilation=1, ceil_mode=False)\n",
       "  (linear_1): Linear(in_features=1024, out_features=500, bias=True)\n",
       "  (linear_2): Linear(in_features=500, out_features=128, bias=True)\n",
       "  (linear_3): Linear(in_features=128, out_features=10, bias=True)\n",
       ")"
      ]
     },
     "execution_count": 64,
     "metadata": {},
     "output_type": "execute_result"
    }
   ],
   "source": [
    "model = MyModel()\n",
    "model"
   ]
  },
  {
   "cell_type": "code",
   "execution_count": 65,
   "metadata": {},
   "outputs": [],
   "source": [
    "from torchsummary import summary"
   ]
  },
  {
   "cell_type": "code",
   "execution_count": 66,
   "metadata": {},
   "outputs": [
    {
     "name": "stdout",
     "output_type": "stream",
     "text": [
      "----------------------------------------------------------------\n",
      "        Layer (type)               Output Shape         Param #\n",
      "================================================================\n",
      "            Conv2d-1           [-1, 16, 32, 32]             448\n",
      "         MaxPool2d-2           [-1, 16, 16, 16]               0\n",
      "            Conv2d-3           [-1, 32, 16, 16]           4,640\n",
      "         MaxPool2d-4             [-1, 32, 8, 8]               0\n",
      "            Conv2d-5             [-1, 64, 8, 8]          18,496\n",
      "         MaxPool2d-6             [-1, 64, 4, 4]               0\n",
      "            Linear-7                  [-1, 500]         512,500\n",
      "            Linear-8                  [-1, 128]          64,128\n",
      "            Linear-9                   [-1, 10]           1,290\n",
      "================================================================\n",
      "Total params: 601,502\n",
      "Trainable params: 601,502\n",
      "Non-trainable params: 0\n",
      "----------------------------------------------------------------\n",
      "Input size (MB): 0.01\n",
      "Forward/backward pass size (MB): 0.28\n",
      "Params size (MB): 2.29\n",
      "Estimated Total Size (MB): 2.58\n",
      "----------------------------------------------------------------\n"
     ]
    }
   ],
   "source": [
    "summary(model,input_size = (3,32,32))"
   ]
  },
  {
   "cell_type": "markdown",
   "metadata": {},
   "source": [
    "## Task 5 : Training loop"
   ]
  },
  {
   "cell_type": "code",
   "execution_count": 69,
   "metadata": {},
   "outputs": [],
   "source": [
    "from torch import optim\n",
    "from utils import multiclass_accuracy\n",
    "from tqdm import tqdm\n",
    "\n",
    "criterion = nn.NLLLoss() #(logps,true_labels)\n",
    "optimizer = optim.Adam(model.parameters(),lr = 0.003)\n",
    "epochs = 10"
   ]
  },
  {
   "cell_type": "code",
   "execution_count": 71,
   "metadata": {},
   "outputs": [
    {
     "name": "stderr",
     "output_type": "stream",
     "text": [
      "100%|██████████| 704/704 [00:56<00:00, 12.43it/s]\n",
      "100%|██████████| 79/79 [00:03<00:00, 20.73it/s]\n",
      "  0%|          | 2/704 [00:00<01:00, 11.52it/s]"
     ]
    },
    {
     "name": "stdout",
     "output_type": "stream",
     "text": [
      "Epoch : 0 Train Loss : 1.4293 Train Acc: 0.4749\n",
      "Epoch : 0 Valid Loss : 1.2020 Valid Acc: 0.5661\n"
     ]
    },
    {
     "name": "stderr",
     "output_type": "stream",
     "text": [
      "100%|██████████| 704/704 [01:01<00:00, 11.42it/s]\n",
      "100%|██████████| 79/79 [00:04<00:00, 19.55it/s]\n",
      "  0%|          | 2/704 [00:00<00:56, 12.51it/s]"
     ]
    },
    {
     "name": "stdout",
     "output_type": "stream",
     "text": [
      "Epoch : 1 Train Loss : 1.0380 Train Acc: 0.6283\n",
      "Epoch : 1 Valid Loss : 0.9897 Valid Acc: 0.6499\n"
     ]
    },
    {
     "name": "stderr",
     "output_type": "stream",
     "text": [
      "100%|██████████| 704/704 [01:01<00:00, 11.52it/s]\n",
      "100%|██████████| 79/79 [00:03<00:00, 21.30it/s]\n",
      "  0%|          | 1/704 [00:00<01:44,  6.72it/s]"
     ]
    },
    {
     "name": "stdout",
     "output_type": "stream",
     "text": [
      "Epoch : 2 Train Loss : 0.8752 Train Acc: 0.6912\n",
      "Epoch : 2 Valid Loss : 0.8793 Valid Acc: 0.6903\n"
     ]
    },
    {
     "name": "stderr",
     "output_type": "stream",
     "text": [
      "100%|██████████| 704/704 [01:01<00:00, 11.51it/s]\n",
      "100%|██████████| 79/79 [00:03<00:00, 20.32it/s]\n",
      "  0%|          | 2/704 [00:00<01:02, 11.25it/s]"
     ]
    },
    {
     "name": "stdout",
     "output_type": "stream",
     "text": [
      "Epoch : 3 Train Loss : 0.7690 Train Acc: 0.7283\n",
      "Epoch : 3 Valid Loss : 0.8792 Valid Acc: 0.6901\n"
     ]
    },
    {
     "name": "stderr",
     "output_type": "stream",
     "text": [
      "100%|██████████| 704/704 [01:02<00:00, 11.24it/s]\n",
      "100%|██████████| 79/79 [00:04<00:00, 17.46it/s]\n",
      "  0%|          | 1/704 [00:00<01:17,  9.06it/s]"
     ]
    },
    {
     "name": "stdout",
     "output_type": "stream",
     "text": [
      "Epoch : 4 Train Loss : 0.6866 Train Acc: 0.7592\n",
      "Epoch : 4 Valid Loss : 0.9840 Valid Acc: 0.6719\n"
     ]
    },
    {
     "name": "stderr",
     "output_type": "stream",
     "text": [
      "100%|██████████| 704/704 [00:58<00:00, 11.94it/s]\n",
      "100%|██████████| 79/79 [00:04<00:00, 19.34it/s]\n",
      "  0%|          | 2/704 [00:00<00:57, 12.21it/s]"
     ]
    },
    {
     "name": "stdout",
     "output_type": "stream",
     "text": [
      "Epoch : 5 Train Loss : 0.6160 Train Acc: 0.7815\n",
      "Epoch : 5 Valid Loss : 1.0186 Valid Acc: 0.6630\n"
     ]
    },
    {
     "name": "stderr",
     "output_type": "stream",
     "text": [
      "100%|██████████| 704/704 [00:58<00:00, 12.04it/s]\n",
      "100%|██████████| 79/79 [00:03<00:00, 21.67it/s]\n",
      "  0%|          | 2/704 [00:00<00:46, 15.01it/s]"
     ]
    },
    {
     "name": "stdout",
     "output_type": "stream",
     "text": [
      "Epoch : 6 Train Loss : 0.5595 Train Acc: 0.8040\n",
      "Epoch : 6 Valid Loss : 0.9403 Valid Acc: 0.7033\n"
     ]
    },
    {
     "name": "stderr",
     "output_type": "stream",
     "text": [
      "100%|██████████| 704/704 [00:58<00:00, 12.13it/s]\n",
      "100%|██████████| 79/79 [00:03<00:00, 22.39it/s]\n",
      "  0%|          | 1/704 [00:00<01:27,  8.07it/s]"
     ]
    },
    {
     "name": "stdout",
     "output_type": "stream",
     "text": [
      "Epoch : 7 Train Loss : 0.5070 Train Acc: 0.8211\n",
      "Epoch : 7 Valid Loss : 0.9785 Valid Acc: 0.7021\n"
     ]
    },
    {
     "name": "stderr",
     "output_type": "stream",
     "text": [
      "100%|██████████| 704/704 [00:56<00:00, 12.48it/s]\n",
      "100%|██████████| 79/79 [00:03<00:00, 22.47it/s]\n",
      "  0%|          | 2/704 [00:00<01:02, 11.20it/s]"
     ]
    },
    {
     "name": "stdout",
     "output_type": "stream",
     "text": [
      "Epoch : 8 Train Loss : 0.4744 Train Acc: 0.8322\n",
      "Epoch : 8 Valid Loss : 0.9918 Valid Acc: 0.7061\n"
     ]
    },
    {
     "name": "stderr",
     "output_type": "stream",
     "text": [
      "100%|██████████| 704/704 [00:59<00:00, 11.85it/s]\n",
      "100%|██████████| 79/79 [00:03<00:00, 22.24it/s]"
     ]
    },
    {
     "name": "stdout",
     "output_type": "stream",
     "text": [
      "Epoch : 9 Train Loss : 0.4182 Train Acc: 0.8533\n",
      "Epoch : 9 Valid Loss : 1.1429 Valid Acc: 0.6828\n"
     ]
    },
    {
     "name": "stderr",
     "output_type": "stream",
     "text": [
      "\n"
     ]
    }
   ],
   "source": [
    "for i in range(epochs):\n",
    "\n",
    "    train_loss = 0.0\n",
    "    train_acc = 0.0\n",
    "    valid_loss = 0.0\n",
    "    valid_acc = 0.0\n",
    "    \n",
    "    model.train()\n",
    "    \n",
    "    for images,labels in tqdm(trainloader):\n",
    "    \n",
    "       logps = model (images) #outputs ps\n",
    "       \n",
    "       loss = criterion(logps,labels)\n",
    "       \n",
    "       optimizer.zero_grad()\n",
    "       loss.backward() #dw,db\n",
    "       optimizer.step() # w = w - lr*dw\n",
    "       \n",
    "       train_loss += loss.item()\n",
    "       ps = torch.exp(logps) #log_softmax -> softmax\n",
    "       train_acc += multiclass_accuracy(ps,labels)\n",
    "       \n",
    "    model.eval() #droput,batch norm\n",
    "    \n",
    "    for images,labels in tqdm(validloader):\n",
    "    \n",
    "        logps = model(images)\n",
    "        loss = criterion(logps,labels)\n",
    "        \n",
    "        valid_loss += loss.item()\n",
    "        ps = torch.exp(logps)\n",
    "        valid_acc += multiclass_accuracy(ps,labels)\n",
    "        \n",
    "    avg_train_loss = train_loss/len(trainloader)  \n",
    "    avg_valid_loss = valid_loss/len(validloader) \n",
    "    avg_train_acc = train_acc/len(trainloader) \n",
    "    avg_valid_acc = valid_acc/len(validloader) \n",
    "    \n",
    "    print(\"Epoch : {} Train Loss : {:.4f} Train Acc: {:.4f}\".format(i,avg_train_loss,avg_train_acc))\n",
    "    print(\"Epoch : {} Valid Loss : {:.4f} Valid Acc: {:.4f}\".format(i,avg_valid_loss,avg_valid_acc))"
   ]
  },
  {
   "cell_type": "markdown",
   "metadata": {},
   "source": [
    "## Task 6 : Evaluate model "
   ]
  },
  {
   "cell_type": "code",
   "execution_count": 72,
   "metadata": {},
   "outputs": [],
   "source": [
    "from utils import view_classify"
   ]
  },
  {
   "cell_type": "code",
   "execution_count": 73,
   "metadata": {},
   "outputs": [
    {
     "name": "stderr",
     "output_type": "stream",
     "text": [
      "100%|██████████| 157/157 [00:07<00:00, 21.52it/s]"
     ]
    },
    {
     "name": "stdout",
     "output_type": "stream",
     "text": [
      "Test Loss: 1.1232 Test Acc: 0.6885\n"
     ]
    },
    {
     "name": "stderr",
     "output_type": "stream",
     "text": [
      "\n"
     ]
    }
   ],
   "source": [
    "test_loss = 0.0\n",
    "test_acc = 0.0\n",
    "\n",
    "model.eval() # dropout,batch norm\n",
    "\n",
    "for images,labels in tqdm(testloader):\n",
    "    \n",
    "    logps = model (images)\n",
    "    loss = criterion(logps,labels)\n",
    "    test_loss += loss.item()\n",
    "    ps = torch.exp(logps)\n",
    "    test_acc += multiclass_accuracy(ps,labels)\n",
    "    \n",
    "    \n",
    "avg_test_loss = test_loss/len(testloader)\n",
    "avg_test_acc = test_acc/len(testloader)\n",
    "print(\"Test Loss: {:.4f} Test Acc: {:.4f}\".format(avg_test_loss,avg_test_acc))"
   ]
  },
  {
   "cell_type": "code",
   "execution_count": 76,
   "metadata": {},
   "outputs": [
    {
     "data": {
      "image/png": "[encoded data removed]",
      "text/plain": [
       "<Figure size 432x648 with 2 Axes>"
      ]
     },
     "metadata": {
      "needs_background": "light"
     },
     "output_type": "display_data"
    }
   ],
   "source": [
    "dataiter = iter(testloader)\n",
    "\n",
    "images,labels = dataiter.next()\n",
    "\n",
    "index = 2\n",
    "logps = model(images[index].unsqueeze(0)) #(3,32,32) -> (1,3,32,32)\n",
    "ps = torch.exp(logps)\n",
    "\n",
    "view_classify(images[index],ps)"
   ]
  },
  {
   "cell_type": "code",
   "execution_count": null,
   "metadata": {},
   "outputs": [],
   "source": []
  }
 ],
 "metadata": {
  "kernelspec": {
   "display_name": "Python 3",
   "language": "python",
   "name": "python3"
  },
  "language_info": {
   "codemirror_mode": {
    "name": "ipython",
    "version": 3
   },
   "file_extension": ".py",
   "mimetype": "text/x-python",
   "name": "python",
   "nbconvert_exporter": "python",
   "pygments_lexer": "ipython3",
   "version": "3.6.9"
  }
 },
 "nbformat": 4,
 "nbformat_minor": 4
}
